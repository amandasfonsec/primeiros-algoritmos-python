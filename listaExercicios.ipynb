{
 "cells": [
  {
   "cell_type": "code",
   "execution_count": 1,
   "id": "715da5a0",
   "metadata": {},
   "outputs": [
    {
     "name": "stdout",
     "output_type": "stream",
     "text": [
      "Olá, mundo!\n"
     ]
    }
   ],
   "source": [
    "print(\"Olá, mundo!\")"
   ]
  },
  {
   "cell_type": "code",
   "execution_count": 2,
   "id": "83254233",
   "metadata": {},
   "outputs": [
    {
     "name": "stdout",
     "output_type": "stream",
     "text": [
      "Olá, Amanda! Você tem 21 anos.\n"
     ]
    }
   ],
   "source": [
    "nome = input(\"Digite seu nome:\")\n",
    "idade = input(\"Digite sua idade:\")\n",
    "\n",
    "print(f\"Olá, {nome}! Você tem {idade} anos.\")"
   ]
  },
  {
   "cell_type": "code",
   "execution_count": 5,
   "id": "7975a806",
   "metadata": {},
   "outputs": [
    {
     "name": "stdout",
     "output_type": "stream",
     "text": [
      "Você digitou os números 29.0 e 2.0\n",
      "Soma: 31.0 | Subtração: 27.0 | Multiplicação: 58.0 | Divisão: 14.5\n"
     ]
    }
   ],
   "source": [
    "n1 = float(input(\"Digite o primeiro número:\"))\n",
    "n2 = float(input(\"Digite o segundo número:\"))\n",
    "\n",
    "soma = n1 + n2\n",
    "subtracao = n1 - n2\n",
    "multiplicacao = n1 * n2\n",
    "divisao = n1 / n2\n",
    "\n",
    "print(f\"Você digitou os números {n1} e {n2}\\nSoma: {soma} | Subtração: {subtracao} | Multiplicação: {multiplicacao} | Divisão: {divisao}\")"
   ]
  },
  {
   "cell_type": "code",
   "execution_count": 7,
   "id": "095ff75f",
   "metadata": {},
   "outputs": [
    {
     "name": "stdout",
     "output_type": "stream",
     "text": [
      "Nota 1: 0.0\n",
      "Nota 2: 9.0\n",
      "Nota 3: 8.0\n",
      "MÉDIA:5.67\n"
     ]
    }
   ],
   "source": [
    "n1 = float(input(\"Digite a primeira nota: \"))\n",
    "n2 = float(input(\"Digite a segunda nota: \"))\n",
    "n3 = float(input(\"Digite a terceira nota: \"))\n",
    "\n",
    "media = (n1 + n2 + n3) / 3\n",
    "\n",
    "print(f\"Nota 1: {n1}\\nNota 2: {n2}\\nNota 3: {n3}\\nMÉDIA:{media:.2f}\")"
   ]
  },
  {
   "cell_type": "code",
   "execution_count": 9,
   "id": "dbe82c41",
   "metadata": {},
   "outputs": [
    {
     "name": "stdout",
     "output_type": "stream",
     "text": [
      "O número 9.0 é ímpar.\n"
     ]
    }
   ],
   "source": [
    "num = float(input(\"Digite um número: \"))\n",
    "\n",
    "if num % 2 == 0:\n",
    "    print(f\"O número {num} é par.\")\n",
    "else:\n",
    "    print(f\"O número {num} é ímpar.\")"
   ]
  },
  {
   "cell_type": "code",
   "execution_count": 10,
   "id": "97a74f3a",
   "metadata": {},
   "outputs": [
    {
     "name": "stdout",
     "output_type": "stream",
     "text": [
      "A temperatura em Fahrenheit é 75.2F°\n"
     ]
    }
   ],
   "source": [
    "temperatura = float(input(\"Digite a temperatura em C°: \"))\n",
    "\n",
    "f = (temperatura * 9/5) + 32\n",
    "\n",
    "print(f\"A temperatura em Fahrenheit é {f}F°\")"
   ]
  },
  {
   "cell_type": "code",
   "execution_count": 11,
   "id": "90444634",
   "metadata": {},
   "outputs": [
    {
     "name": "stdout",
     "output_type": "stream",
     "text": [
      "O número antecessor é 3 e o sucessor é 5.\n"
     ]
    }
   ],
   "source": [
    "num = int(input(\"Digite um número:\"))\n",
    "\n",
    "print(f\"O número antecessor é {num - 1} e o sucessor é {num + 1}.\")"
   ]
  },
  {
   "cell_type": "code",
   "execution_count": 2,
   "id": "fc91b983",
   "metadata": {},
   "outputs": [
    {
     "name": "stdout",
     "output_type": "stream",
     "text": [
      "2.0 x 1 = 2.0\n",
      "2.0 x 2 = 4.0\n",
      "2.0 x 3 = 6.0\n",
      "2.0 x 4 = 8.0\n",
      "2.0 x 5 = 10.0\n",
      "2.0 x 6 = 12.0\n",
      "2.0 x 7 = 14.0\n",
      "2.0 x 8 = 16.0\n",
      "2.0 x 9 = 18.0\n",
      "2.0 x 10 = 20.0\n"
     ]
    }
   ],
   "source": [
    "num = float(input(\"Digite um número:\"))\n",
    "\n",
    "for i in range(1, 11):\n",
    "    print(f\"{num} x {i} = {num * i}\")"
   ]
  },
  {
   "cell_type": "code",
   "execution_count": 9,
   "id": "95a16db1",
   "metadata": {},
   "outputs": [
    {
     "name": "stdout",
     "output_type": "stream",
     "text": [
      "O maior número é 90.0 e o menor número é 6.0.\n"
     ]
    }
   ],
   "source": [
    "num = float(input(\"Digite o 1° número: \"))\n",
    "maior = num\n",
    "menor = num\n",
    "\n",
    "for i in range(4):\n",
    "    num = float(input(f\"Digite o {i+2}° número: \"))\n",
    "    \n",
    "    if num > maior:\n",
    "        maior = num\n",
    "    \n",
    "    if num < menor:\n",
    "        menor = num\n",
    "\n",
    "print(f\"O maior número é {maior} e o menor número é {menor}.\")"
   ]
  },
  {
   "cell_type": "code",
   "execution_count": 10,
   "id": "a6e3def8",
   "metadata": {},
   "outputs": [
    {
     "name": "stdout",
     "output_type": "stream",
     "text": [
      "Menu:\n",
      "1 - Calcular área de um quadrado\n",
      "2 - Calcular área de um círculo\n",
      "3 - Sair\n",
      "Área do círculo: 3629.84\n",
      "Menu:\n",
      "1 - Calcular área de um quadrado\n",
      "2 - Calcular área de um círculo\n",
      "3 - Sair\n",
      "Área do quadrado: 484.0\n",
      "Menu:\n",
      "1 - Calcular área de um quadrado\n",
      "2 - Calcular área de um círculo\n",
      "3 - Sair\n"
     ]
    }
   ],
   "source": [
    "while True:\n",
    "    print(\"Menu:\")\n",
    "    print(\"1 - Calcular área de um quadrado\")\n",
    "    print(\"2 - Calcular área de um círculo\")\n",
    "    print(\"3 - Sair\")\n",
    "    opc = input(\"Escolha uma opção: \")\n",
    "\n",
    "    if opc == \"1\":\n",
    "        lado = float(input(\"Digite o valor do quadrado: \"))\n",
    "        area = lado * lado\n",
    "        print(\"Área do quadrado:\", area)\n",
    "\n",
    "    elif opc == \"2\":\n",
    "        raio = float(input(\"Digite o valor do círculo: \"))\n",
    "        area = 3.14 * raio * raio\n",
    "        print(\"Área do círculo:\", area)\n",
    "\n",
    "    elif opc == \"3\":\n",
    "        break\n",
    "\n",
    "    else:\n",
    "        print(\"Opção inválida. Tente novamente.\")\n"
   ]
  }
 ],
 "metadata": {
  "kernelspec": {
   "display_name": "Python 3",
   "language": "python",
   "name": "python3"
  },
  "language_info": {
   "codemirror_mode": {
    "name": "ipython",
    "version": 3
   },
   "file_extension": ".py",
   "mimetype": "text/x-python",
   "name": "python",
   "nbconvert_exporter": "python",
   "pygments_lexer": "ipython3",
   "version": "3.13.3"
  }
 },
 "nbformat": 4,
 "nbformat_minor": 5
}
